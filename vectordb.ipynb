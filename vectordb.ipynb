{
 "cells": [
  {
   "cell_type": "code",
   "execution_count": null,
   "id": "391cb4f0",
   "metadata": {},
   "outputs": [],
   "source": [
    "# !pip install chromadb \n",
    "# !pip sentence-transformers\n",
    "# !pip install langchain\n",
    "# !pip install sentence-transformers"
   ]
  },
  {
   "cell_type": "code",
   "execution_count": 2,
   "id": "2d0e0953",
   "metadata": {},
   "outputs": [
    {
     "name": "stdout",
     "output_type": "stream",
     "text": [
      "Result: سلام دنیا | Distance: 0.5351\n",
      "Result: Hello world | Distance: 0.6217\n",
      "Result: ہیلو دنیا | Distance: 0.6236\n"
     ]
    }
   ],
   "source": [
    "import chromadb\n",
    "from chromadb import PersistentClient\n",
    "from sentence_transformers import SentenceTransformer\n",
    "\n",
    "# Initialize local ChromaDB storage (in ./chroma_db/)\n",
    "client = PersistentClient(path=\"./chroma_db\")\n",
    "\n",
    "# Create or load collection\n",
    "collection = client.get_or_create_collection(\"my_docs\")\n",
    "\n",
    "# Load embedding model (LaBSE = multilingual, offline)\n",
    "model = SentenceTransformer(\"LaBSE\")  # or 'all-MiniLM-L6-v2'\n",
    "\n",
    "# Sample texts (in multiple languages)\n",
    "texts = [\n",
    "    \"Hello world\",\n",
    "    \"Bonjour le monde\",\n",
    "    \"Hola mundo\",\n",
    "    \"ہیلو دنیا\",        # Urdu\n",
    "    \"سلام دنیا\",         # Persian\n",
    "]\n",
    "ids = [f\"doc{i}\" for i in range(len(texts))]\n",
    "embeddings = model.encode(texts).tolist()\n",
    "\n",
    "# Store in Chroma\n",
    "collection.add(\n",
    "    documents=texts,\n",
    "    embeddings=embeddings,\n",
    "    ids=ids,\n",
    "    metadatas=[{\"lang\": \"auto\"} for _ in texts]\n",
    ")\n",
    "\n",
    "# Search with a new query\n",
    "query = \"سلام\"  # Same meaning as 'hello'\n",
    "query_vec = model.encode([query]).tolist()[0]\n",
    "\n",
    "results = collection.query(\n",
    "    query_embeddings=[query_vec],\n",
    "    n_results=3,\n",
    "    include=[\"documents\", \"distances\"]\n",
    ")\n",
    "\n",
    "# Show results\n",
    "for doc, dist in zip(results[\"documents\"][0], results[\"distances\"][0]):\n",
    "    print(f\"Result: {doc} | Distance: {dist:.4f}\")\n"
   ]
  },
  {
   "cell_type": "code",
   "execution_count": null,
   "id": "8c35b885",
   "metadata": {},
   "outputs": [],
   "source": []
  }
 ],
 "metadata": {
  "kernelspec": {
   "display_name": "ai",
   "language": "python",
   "name": "python3"
  },
  "language_info": {
   "codemirror_mode": {
    "name": "ipython",
    "version": 3
   },
   "file_extension": ".py",
   "mimetype": "text/x-python",
   "name": "python",
   "nbconvert_exporter": "python",
   "pygments_lexer": "ipython3",
   "version": "3.12.9"
  }
 },
 "nbformat": 4,
 "nbformat_minor": 5
}
